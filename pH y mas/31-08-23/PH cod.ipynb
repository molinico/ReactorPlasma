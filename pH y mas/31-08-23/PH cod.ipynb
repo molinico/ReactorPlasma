{
 "cells": [
  {
   "cell_type": "code",
   "execution_count": 1,
   "metadata": {},
   "outputs": [],
   "source": [
    "import numpy as np\n",
    "import matplotlib.pyplot as plt\n",
    "#get_ipython().run_line_magic('matplotlib', 'inline')\n",
    "get_ipython().run_line_magic('matplotlib', 'qt5')"
   ]
  },
  {
   "cell_type": "code",
   "execution_count": 54,
   "metadata": {},
   "outputs": [
    {
     "name": "stderr",
     "output_type": "stream",
     "text": [
      "No artists with labels found to put in legend.  Note that artists whose label start with an underscore are ignored when legend() is called with no argument.\n"
     ]
    },
    {
     "ename": "ValueError",
     "evalue": "num must be 1 <= num <= 1, not 2",
     "output_type": "error",
     "traceback": [
      "\u001b[1;31m---------------------------------------------------------------------------\u001b[0m",
      "\u001b[1;31mValueError\u001b[0m                                Traceback (most recent call last)",
      "\u001b[1;32mc:\\Users\\Sergio\\Desktop\\L6y7\\pH y mas\\31-08-23\\PH cod.ipynb Cell 2\u001b[0m line \u001b[0;36m1\n\u001b[0;32m    <a href='vscode-notebook-cell:/c%3A/Users/Sergio/Desktop/L6y7/pH%20y%20mas/31-08-23/PH%20cod.ipynb#W1sZmlsZQ%3D%3D?line=109'>110</a>\u001b[0m plt\u001b[39m.\u001b[39mxlabel(\u001b[39m'\u001b[39m\u001b[39mtiempo (min)\u001b[39m\u001b[39m'\u001b[39m)\n\u001b[0;32m    <a href='vscode-notebook-cell:/c%3A/Users/Sergio/Desktop/L6y7/pH%20y%20mas/31-08-23/PH%20cod.ipynb#W1sZmlsZQ%3D%3D?line=110'>111</a>\u001b[0m plt\u001b[39m.\u001b[39mtight_layout()\n\u001b[1;32m--> <a href='vscode-notebook-cell:/c%3A/Users/Sergio/Desktop/L6y7/pH%20y%20mas/31-08-23/PH%20cod.ipynb#W1sZmlsZQ%3D%3D?line=112'>113</a>\u001b[0m plt\u001b[39m.\u001b[39;49msubplot(\u001b[39m1\u001b[39;49m,\u001b[39m1\u001b[39;49m,\u001b[39m2\u001b[39;49m)\n\u001b[0;32m    <a href='vscode-notebook-cell:/c%3A/Users/Sergio/Desktop/L6y7/pH%20y%20mas/31-08-23/PH%20cod.ipynb#W1sZmlsZQ%3D%3D?line=113'>114</a>\u001b[0m plt\u001b[39m.\u001b[39mscatter(t5,ph5,s\u001b[39m=\u001b[39m\u001b[39m7\u001b[39m)\n\u001b[0;32m    <a href='vscode-notebook-cell:/c%3A/Users/Sergio/Desktop/L6y7/pH%20y%20mas/31-08-23/PH%20cod.ipynb#W1sZmlsZQ%3D%3D?line=114'>115</a>\u001b[0m plt\u001b[39m.\u001b[39merrorbar(t5,ph5,yerr\u001b[39m=\u001b[39merrph5)\n",
      "File \u001b[1;32mc:\\Users\\Sergio\\anaconda3\\envs\\labo\\lib\\site-packages\\matplotlib\\pyplot.py:1268\u001b[0m, in \u001b[0;36msubplot\u001b[1;34m(*args, **kwargs)\u001b[0m\n\u001b[0;32m   1265\u001b[0m fig \u001b[39m=\u001b[39m gcf()\n\u001b[0;32m   1267\u001b[0m \u001b[39m# First, search for an existing subplot with a matching spec.\u001b[39;00m\n\u001b[1;32m-> 1268\u001b[0m key \u001b[39m=\u001b[39m SubplotSpec\u001b[39m.\u001b[39;49m_from_subplot_args(fig, args)\n\u001b[0;32m   1270\u001b[0m \u001b[39mfor\u001b[39;00m ax \u001b[39min\u001b[39;00m fig\u001b[39m.\u001b[39maxes:\n\u001b[0;32m   1271\u001b[0m     \u001b[39m# if we found an axes at the position sort out if we can re-use it\u001b[39;00m\n\u001b[0;32m   1272\u001b[0m     \u001b[39mif\u001b[39;00m \u001b[39mhasattr\u001b[39m(ax, \u001b[39m'\u001b[39m\u001b[39mget_subplotspec\u001b[39m\u001b[39m'\u001b[39m) \u001b[39mand\u001b[39;00m ax\u001b[39m.\u001b[39mget_subplotspec() \u001b[39m==\u001b[39m key:\n\u001b[0;32m   1273\u001b[0m         \u001b[39m# if the user passed no kwargs, re-use\u001b[39;00m\n",
      "File \u001b[1;32mc:\\Users\\Sergio\\anaconda3\\envs\\labo\\lib\\site-packages\\matplotlib\\gridspec.py:608\u001b[0m, in \u001b[0;36mSubplotSpec._from_subplot_args\u001b[1;34m(figure, args)\u001b[0m\n\u001b[0;32m    606\u001b[0m \u001b[39melse\u001b[39;00m:\n\u001b[0;32m    607\u001b[0m     \u001b[39mif\u001b[39;00m \u001b[39mnot\u001b[39;00m \u001b[39misinstance\u001b[39m(num, Integral) \u001b[39mor\u001b[39;00m num \u001b[39m<\u001b[39m \u001b[39m1\u001b[39m \u001b[39mor\u001b[39;00m num \u001b[39m>\u001b[39m rows\u001b[39m*\u001b[39mcols:\n\u001b[1;32m--> 608\u001b[0m         \u001b[39mraise\u001b[39;00m \u001b[39mValueError\u001b[39;00m(\n\u001b[0;32m    609\u001b[0m             \u001b[39mf\u001b[39m\u001b[39m\"\u001b[39m\u001b[39mnum must be 1 <= num <= \u001b[39m\u001b[39m{\u001b[39;00mrows\u001b[39m*\u001b[39mcols\u001b[39m}\u001b[39;00m\u001b[39m, not \u001b[39m\u001b[39m{\u001b[39;00mnum\u001b[39m!r}\u001b[39;00m\u001b[39m\"\u001b[39m)\n\u001b[0;32m    610\u001b[0m     i \u001b[39m=\u001b[39m j \u001b[39m=\u001b[39m num\n\u001b[0;32m    611\u001b[0m \u001b[39mreturn\u001b[39;00m gs[i\u001b[39m-\u001b[39m\u001b[39m1\u001b[39m:j]\n",
      "\u001b[1;31mValueError\u001b[0m: num must be 1 <= num <= 1, not 2"
     ]
    }
   ],
   "source": [
    "def adqui(file_name):\n",
    "    data = np.loadtxt(file_name, delimiter=',', skiprows=1)\n",
    "    t=np.array(data[:,0])\n",
    "    ph=np.array(data[:,1])\n",
    "    temp=np.array(data[:,2])\n",
    "    pot=np.array(data[:,3])\n",
    "    cond=np.array(data[:,4])\n",
    "    return t,ph,temp,pot,cond\n",
    "\n",
    "\n",
    "\n",
    "\n",
    "t1,ph1,temp1,pot1,cond1=adqui('1el.txt')\n",
    "t1_new,ph1_new,temp1_new,pot1_new,cond1_new=adqui('1el_new.txt')\n",
    "t1_ag,ph1_ag,temp1_ag,pot1_ag,cond1_ag=adqui('1el_agitador.txt')\n",
    "t2,ph2,temp2,pot2,cond2=adqui('2el.txt')\n",
    "t3,ph3,temp3,pot3,cond3=adqui('3el.txt')\n",
    "t5,ph5,temp5,pot5,cond5=adqui('5el.txt')\n",
    "\n",
    "mi_variable = [1, \"1new\" , \"1ag\", 2, 3,5]\n",
    "lens=[t1,t1_new,t1_ag,t2,t3,t5]\n",
    "\n",
    "errph=0.01\n",
    "errpot=0.2\n",
    "\n",
    "errph1_ag=[0.01]*len(t1_ag)\n",
    "errpot1_ag=[0.2]*len(t1_ag)\n",
    "errcond1_ag=0.01*cond1_ag\n",
    "\n",
    "errph3=[0.01]*len(t3)\n",
    "errpot3=[0.2]*len(t3)\n",
    "errcond3=0.01*cond3\n",
    "\n",
    "errph5=[0.01]*len(t5)\n",
    "errpot5=[0.2]*len(t5)\n",
    "errcond5=0.01*cond5\n",
    "\n",
    "# Crear listas con nombres ph1, ph2, ..., ph5\n",
    "\n",
    "\n",
    "plt.figure(figsize=(7,4))\n",
    "\n",
    "plt.scatter(t1_ag,ph1_ag/ph1_ag[0],s=7)\n",
    "plt.errorbar(t1_ag,ph1_ag/ph1_ag[0],yerr=errph1_ag/ph1_ag[0],label=\"Un electrodo\")\n",
    "\n",
    "plt.scatter(t3,ph3/ph3[0],s=7)\n",
    "plt.errorbar(t3,ph3/ph3[0],yerr=errph3/ph3[0],label=\"Tres electrodos\")\n",
    "\n",
    "\n",
    "\n",
    "plt.scatter(t5,ph5/ph5[0],s=7)\n",
    "plt.errorbar(t5,ph5/ph5[0],yerr=errph5/ph5[0],label=\"Cinco electrodos\")\n",
    "\n",
    "\n",
    "plt.title('pH',fontsize=13)\n",
    "plt.xlabel('tiempo (min)')\n",
    "plt.ylabel(r'$\\frac{pH}{pH_0}$',fontsize=12)\n",
    "plt.legend()\n",
    "plt.tight_layout()\n",
    "\n",
    "\n",
    "plt.figure(figsize=(9,4))\n",
    "plt.subplot(1,2,1)\n",
    "\n",
    "plt.scatter(t1_ag,pot1_ag/pot1_ag[0],s=7)\n",
    "plt.errorbar(t1_ag,pot1_ag/pot1_ag[0],yerr=errpot1_ag/pot1_ag[0],label=\"Un electrodo\")\n",
    "\n",
    "plt.scatter(t3,pot3/pot3[0],s=7)\n",
    "plt.errorbar(t3,pot3/pot3[0],yerr=errpot3/pot3[0],label=\"Tres electrodos\")\n",
    "\n",
    "#plt.plot(t5,pot5/pot5[0], '.-', label='Cinco electrodos')\n",
    "\n",
    "plt.scatter(t5,pot5/pot5[0],s=7)\n",
    "plt.errorbar(t5,pot5/pot5[0],yerr=errpot5/pot5[0],label=\"Cinco electrodos\")\n",
    "plt.title('Potencial',fontsize=13)\n",
    "plt.ylabel(r'$\\frac{P}{P_0}$',fontsize=12)\n",
    "plt.xlabel('tiempo (min)')\n",
    "plt.legend()\n",
    "\n",
    "plt.subplot(1,2,2)\n",
    "#plt.plot(t1,cond1/cond1[0], '.-', label='Un electrodo')\n",
    "plt.scatter(t1_ag,cond1_ag/cond1_ag[0],s=7)\n",
    "plt.errorbar(t1_ag,cond1_ag/cond1_ag[0],yerr=errcond1_ag/cond1_ag[0],label='Un electrodo')\n",
    "\n",
    "\n",
    "plt.scatter(t3,cond3/cond3[0],s=7)\n",
    "plt.errorbar(t3,cond3/cond3[0],yerr=errcond3/cond3[0],label='Dos electrodos')\n",
    "\n",
    "\n",
    "\n",
    "#plt.plot(t5,cond5/cond5[0], '.-', label='Cinco electrodos')\n",
    "plt.scatter(t5,cond5/cond5[0],s=7)\n",
    "plt.errorbar(t5,cond5/cond5[0],yerr=errcond5/cond5[0],label='Cinco electrodos')\n",
    "\n",
    "plt.title('Conductividad',fontsize=13)\n",
    "plt.legend()\n",
    "plt.ylabel(r'$\\frac{C}{C_0}$',fontsize=12)\n",
    "plt.xlabel('tiempo (min)')\n",
    "plt.tight_layout()\n",
    "\n",
    "\n",
    "#grafico sin normalizar\n",
    "plt.figure()\n",
    "plt.subplot(1,3,1)\n",
    "plt.scatter(t5,cond5,s=7)\n",
    "plt.errorbar(t5,cond5,yerr=errcond5)\n",
    "plt.title('Conductividad',fontsize=13)\n",
    "plt.legend()\n",
    "plt.ylabel(r'$C$',fontsize=12)\n",
    "plt.xlabel('tiempo (min)')\n",
    "plt.tight_layout()\n",
    "\n",
    "plt.subplot(1,3,2)\n",
    "plt.scatter(t5,ph5,s=7)\n",
    "plt.errorbar(t5,ph5,yerr=errph5)\n",
    "plt.title('Ph',fontsize=13)\n",
    "plt.legend()\n",
    "plt.ylabel(r'$Ph$',fontsize=12)\n",
    "plt.xlabel('tiempo (min)')\n",
    "plt.tight_layout()\n",
    "\n",
    "plt.subplot(1,3,3)\n",
    "plt.scatter(t5,pot5,s=7)\n",
    "plt.errorbar(t5,pot5,yerr=errpot5)\n",
    "plt.title('Potencial',fontsize=13)\n",
    "plt.legend()\n",
    "plt.ylabel(r'$Potencial (mV)$',fontsize=12)\n",
    "plt.xlabel('tiempo (min)')\n",
    "plt.tight_layout()\n"
   ]
  },
  {
   "cell_type": "code",
   "execution_count": 40,
   "metadata": {},
   "outputs": [
    {
     "data": {
      "text/plain": [
       "<matplotlib.legend.Legend at 0x1b9717ff0d0>"
      ]
     },
     "execution_count": 40,
     "metadata": {},
     "output_type": "execute_result"
    }
   ],
   "source": [
    "plt.figure()\n",
    "#plt.plot(t1,temp1/temp1[0], '.-', label='Un electrodo')\n",
    "plt.plot(t1_ag,temp1_ag/temp1_ag[0], '.-', label='Un electrodo:ag')\n",
    "#plt.plot(t1_new,temp1_new/temp1_new[0], '.-', label='Un electrodo: nuevo')\n",
    "plt.plot(t2,temp2/temp2[0], '.-', label='Dos electrodos')\n",
    "plt.plot(t3,temp3/temp3[0], '.-', label='Tres electrodos')\n",
    "plt.plot(t5,temp5/temp5[0], '.-', label='Cinco electrodos')\n",
    "plt.title('Temperatura')\n",
    "plt.ylabel(r'$\\frac{T}{T_0}$',fontsize=15)\n",
    "plt.legend()"
   ]
  },
  {
   "cell_type": "markdown",
   "metadata": {},
   "source": []
  },
  {
   "cell_type": "code",
   "execution_count": null,
   "metadata": {},
   "outputs": [],
   "source": []
  }
 ],
 "metadata": {
  "kernelspec": {
   "display_name": "labo",
   "language": "python",
   "name": "python3"
  },
  "language_info": {
   "codemirror_mode": {
    "name": "ipython",
    "version": 3
   },
   "file_extension": ".py",
   "mimetype": "text/x-python",
   "name": "python",
   "nbconvert_exporter": "python",
   "pygments_lexer": "ipython3",
   "version": "3.9.11"
  },
  "orig_nbformat": 4
 },
 "nbformat": 4,
 "nbformat_minor": 2
}
