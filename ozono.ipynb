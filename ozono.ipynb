{
 "cells": [
  {
   "cell_type": "code",
   "execution_count": 2,
   "metadata": {},
   "outputs": [
    {
     "name": "stdout",
     "output_type": "stream",
     "text": [
      "WARNING *** OLE2 inconsistency: SSCS size is 0 but SSAT size is non-zero\n",
      "WARNING *** OLE2 inconsistency: SSCS size is 0 but SSAT size is non-zero\n",
      "WARNING *** OLE2 inconsistency: SSCS size is 0 but SSAT size is non-zero\n",
      "WARNING *** OLE2 inconsistency: SSCS size is 0 but SSAT size is non-zero\n",
      "WARNING *** OLE2 inconsistency: SSCS size is 0 but SSAT size is non-zero\n",
      "WARNING *** OLE2 inconsistency: SSCS size is 0 but SSAT size is non-zero\n",
      "WARNING *** OLE2 inconsistency: SSCS size is 0 but SSAT size is non-zero\n",
      "WARNING *** OLE2 inconsistency: SSCS size is 0 but SSAT size is non-zero\n"
     ]
    },
    {
     "data": {
      "text/plain": [
       "<matplotlib.legend.Legend at 0x18b212b5970>"
      ]
     },
     "execution_count": 2,
     "metadata": {},
     "output_type": "execute_result"
    }
   ],
   "source": [
    "# -*- coding: utf-8 -*-\n",
    "\"\"\"\n",
    "Created on Thu Jun 22 15:28:01 2023\n",
    "\n",
    "@author: Descargas\n",
    "\"\"\"\n",
    "import os\n",
    "import pandas as pd\n",
    "import numpy as np \n",
    "import matplotlib.pyplot as plt\n",
    "\n",
    "get_ipython().run_line_magic('matplotlib', 'qt5')\n",
    "\n",
    "import matplotlib.ticker as ticker\n",
    "\n",
    "plt.rcParams.update({'font.size': 11})\n",
    "\n",
    "os.chdir(r\"C:\\Users\\Nicolás Molina\\Desktop\\L6-7\\adquisicion\\Ozono27-06-23\")\n",
    "\n",
    "data = pd.read_excel('sin-agua-solo-dbd.xls')\n",
    "o3 = np.array(data['CH1 Conc'].values)\n",
    "t = np.linspace(10,1950,num=195)\n",
    "\n",
    "data2 = pd.read_excel('con-agua-solo-dbd-17kv.xls')\n",
    "o3_2 = np.array(data2['CH1 Conc'].values)\n",
    "t_2 = np.linspace(10,1780,num=178)\n",
    "\n",
    "data3 = pd.read_excel('con-agua-dbdycc-17kv.xls')\n",
    "o3_3 = np.array(data3['CH1 Conc'].values)\n",
    "t3 = np.linspace(10,1730,num=173)\n",
    "\n",
    "os.chdir(r\"C:\\Users\\Nicolás Molina\\Desktop\\L6-7\\adquisicion\\Ozono27-06-23\\E6\")\n",
    "\n",
    "data4 = pd.read_excel('con agua dbd y cc 17kv bien.xls')\n",
    "o3_4 = np.array(data4['CH1 Conc'].values)\n",
    "t4 = np.linspace(10,1600,num=160)\n",
    "\n",
    "os.chdir(r\"C:\\Users\\Nicolás Molina\\Desktop\\L6-7\\adquisicion\\Ozono27-06-23\\E5\")\n",
    "\n",
    "data5 = pd.read_excel('E5 con agua dbd+cc 17kv.xls')\n",
    "o3_5 = np.array(data5['CH1 Conc'].values)\n",
    "t5 = np.linspace(10,1490,num=149)\n",
    "\n",
    "os.chdir(r\"C:\\Users\\Nicolás Molina\\Desktop\\L6-7\\adquisicion\\Ozono27-06-23\\E6 y E5 juntos\")\n",
    "\n",
    "data6 = pd.read_excel('E6 Y E5 co agua dbd+cc 17kv.xls')\n",
    "o3_6 = np.array(data6['CH1 Conc'].values)\n",
    "t6 = np.linspace(10,1410,num=141)\n",
    "\n",
    "os.chdir(r\"C:\\Users\\Nicolás Molina\\Desktop\\L6-7\\adquisicion\\Ozono27-06-23\\varios electrodos juntos\")\n",
    "\n",
    "data7 = pd.read_excel('E5 E6 E3 dbd y cc 17kv.xls')\n",
    "o3_7= np.array(data7['CH1 Conc'].values)\n",
    "t7 = np.linspace(10,1880,num=188)\n",
    "\n",
    "os.chdir(r\"C:\\Users\\Nicolás Molina\\Desktop\\L6-7\\adquisicion\\Ozono27-06-23\\varios electrodos juntos\")\n",
    "\n",
    "data8 = pd.read_excel('E4,5,6,3 dbd+cc 17kv.xls')\n",
    "o3_8= np.array(data8['CH1 Conc'].values)\n",
    "t8 = np.linspace(10,1690,num=169)\n",
    "\n",
    "\n",
    "plt.figure()\n",
    "plt.title('Concentración de Ozono en distintas etapas')\n",
    "# plt.plot(t,o3, label='DBD sola sin agua')\n",
    "plt.plot(t_2,o3_2, label='Solo DBD')\n",
    "# plt.plot(t3,o3_3, label='DBD+CC con agua mal')\n",
    "plt.plot(t4,o3_4, label='DBD+E3 / una etapa')\n",
    "# plt.plot(t5,o3_5, label='DBD+CC con agua E5')\n",
    "\n",
    "plt.plot(t6,o3_6, label='DBD+E3 / dos etapas')\n",
    "plt.plot(t7,o3_7, label='DBD+E3 / tres etapas')\n",
    "#plt.plot(t8,o3_8, label='DBD+CC con agua E5+E6+E3+E4')\n",
    "plt.xlabel('tiempo [s]')\n",
    "plt.ylabel('Concentración $O_3$ [ppm]')\n",
    "#plt.grid()\n",
    "plt.legend()"
   ]
  },
  {
   "cell_type": "code",
   "execution_count": null,
   "metadata": {},
   "outputs": [],
   "source": []
  }
 ],
 "metadata": {
  "kernelspec": {
   "display_name": "base",
   "language": "python",
   "name": "python3"
  },
  "language_info": {
   "codemirror_mode": {
    "name": "ipython",
    "version": 3
   },
   "file_extension": ".py",
   "mimetype": "text/x-python",
   "name": "python",
   "nbconvert_exporter": "python",
   "pygments_lexer": "ipython3",
   "version": "3.9.7"
  },
  "orig_nbformat": 4
 },
 "nbformat": 4,
 "nbformat_minor": 2
}
