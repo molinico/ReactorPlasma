{
 "cells": [
  {
   "cell_type": "code",
   "execution_count": 1,
   "metadata": {},
   "outputs": [],
   "source": [
    "import numpy as np\n",
    "import matplotlib.pyplot as plt"
   ]
  },
  {
   "cell_type": "code",
   "execution_count": 3,
   "metadata": {},
   "outputs": [
    {
     "ename": "OSError",
     "evalue": "1el.txt not found.",
     "output_type": "error",
     "traceback": [
      "\u001b[1;31m---------------------------------------------------------------------------\u001b[0m",
      "\u001b[1;31mOSError\u001b[0m                                   Traceback (most recent call last)",
      "\u001b[1;32mc:\\Users\\Sergio\\Desktop\\L6y7\\pH y mas\\mediciones_posta\\PH cod.ipynb Cell 2\u001b[0m in \u001b[0;36m1\n\u001b[0;32m      <a href='vscode-notebook-cell:/c%3A/Users/Sergio/Desktop/L6y7/pH%20y%20mas/mediciones_posta/PH%20cod.ipynb#W1sZmlsZQ%3D%3D?line=6'>7</a>\u001b[0m     cond\u001b[39m=\u001b[39mnp\u001b[39m.\u001b[39marray(data[:,\u001b[39m4\u001b[39m])\n\u001b[0;32m      <a href='vscode-notebook-cell:/c%3A/Users/Sergio/Desktop/L6y7/pH%20y%20mas/mediciones_posta/PH%20cod.ipynb#W1sZmlsZQ%3D%3D?line=7'>8</a>\u001b[0m     \u001b[39mreturn\u001b[39;00m t,ph,temp,pot,cond\n\u001b[1;32m---> <a href='vscode-notebook-cell:/c%3A/Users/Sergio/Desktop/L6y7/pH%20y%20mas/mediciones_posta/PH%20cod.ipynb#W1sZmlsZQ%3D%3D?line=10'>11</a>\u001b[0m t1,ph1,temp1,pot1,cond1\u001b[39m=\u001b[39madqui(\u001b[39m'\u001b[39;49m\u001b[39m1el.txt\u001b[39;49m\u001b[39m'\u001b[39;49m)\n\u001b[0;32m     <a href='vscode-notebook-cell:/c%3A/Users/Sergio/Desktop/L6y7/pH%20y%20mas/mediciones_posta/PH%20cod.ipynb#W1sZmlsZQ%3D%3D?line=12'>13</a>\u001b[0m plt\u001b[39m.\u001b[39mfigure(figsize\u001b[39m=\u001b[39m(\u001b[39m12\u001b[39m,\u001b[39m9\u001b[39m))\n\u001b[0;32m     <a href='vscode-notebook-cell:/c%3A/Users/Sergio/Desktop/L6y7/pH%20y%20mas/mediciones_posta/PH%20cod.ipynb#W1sZmlsZQ%3D%3D?line=13'>14</a>\u001b[0m plt\u001b[39m.\u001b[39msubplot(\u001b[39m2\u001b[39m,\u001b[39m2\u001b[39m,\u001b[39m1\u001b[39m)\n",
      "\u001b[1;32mc:\\Users\\Sergio\\Desktop\\L6y7\\pH y mas\\mediciones_posta\\PH cod.ipynb Cell 2\u001b[0m in \u001b[0;36m2\n\u001b[0;32m      <a href='vscode-notebook-cell:/c%3A/Users/Sergio/Desktop/L6y7/pH%20y%20mas/mediciones_posta/PH%20cod.ipynb#W1sZmlsZQ%3D%3D?line=0'>1</a>\u001b[0m \u001b[39mdef\u001b[39;00m \u001b[39madqui\u001b[39m(file_name):\n\u001b[1;32m----> <a href='vscode-notebook-cell:/c%3A/Users/Sergio/Desktop/L6y7/pH%20y%20mas/mediciones_posta/PH%20cod.ipynb#W1sZmlsZQ%3D%3D?line=1'>2</a>\u001b[0m     data \u001b[39m=\u001b[39m np\u001b[39m.\u001b[39;49mloadtxt(file_name, delimiter\u001b[39m=\u001b[39;49m\u001b[39m'\u001b[39;49m\u001b[39m,\u001b[39;49m\u001b[39m'\u001b[39;49m, skiprows\u001b[39m=\u001b[39;49m\u001b[39m1\u001b[39;49m)\n\u001b[0;32m      <a href='vscode-notebook-cell:/c%3A/Users/Sergio/Desktop/L6y7/pH%20y%20mas/mediciones_posta/PH%20cod.ipynb#W1sZmlsZQ%3D%3D?line=2'>3</a>\u001b[0m     t\u001b[39m=\u001b[39mnp\u001b[39m.\u001b[39marray(data[:,\u001b[39m0\u001b[39m])\n\u001b[0;32m      <a href='vscode-notebook-cell:/c%3A/Users/Sergio/Desktop/L6y7/pH%20y%20mas/mediciones_posta/PH%20cod.ipynb#W1sZmlsZQ%3D%3D?line=3'>4</a>\u001b[0m     ph\u001b[39m=\u001b[39mnp\u001b[39m.\u001b[39marray(data[:,\u001b[39m1\u001b[39m])\n",
      "File \u001b[1;32mc:\\Users\\Sergio\\anaconda3\\envs\\labo\\lib\\site-packages\\numpy\\lib\\npyio.py:1067\u001b[0m, in \u001b[0;36mloadtxt\u001b[1;34m(fname, dtype, comments, delimiter, converters, skiprows, usecols, unpack, ndmin, encoding, max_rows, like)\u001b[0m\n\u001b[0;32m   1065\u001b[0m     fname \u001b[39m=\u001b[39m os_fspath(fname)\n\u001b[0;32m   1066\u001b[0m \u001b[39mif\u001b[39;00m _is_string_like(fname):\n\u001b[1;32m-> 1067\u001b[0m     fh \u001b[39m=\u001b[39m np\u001b[39m.\u001b[39;49mlib\u001b[39m.\u001b[39;49m_datasource\u001b[39m.\u001b[39;49mopen(fname, \u001b[39m'\u001b[39;49m\u001b[39mrt\u001b[39;49m\u001b[39m'\u001b[39;49m, encoding\u001b[39m=\u001b[39;49mencoding)\n\u001b[0;32m   1068\u001b[0m     fencoding \u001b[39m=\u001b[39m \u001b[39mgetattr\u001b[39m(fh, \u001b[39m'\u001b[39m\u001b[39mencoding\u001b[39m\u001b[39m'\u001b[39m, \u001b[39m'\u001b[39m\u001b[39mlatin1\u001b[39m\u001b[39m'\u001b[39m)\n\u001b[0;32m   1069\u001b[0m     fh \u001b[39m=\u001b[39m \u001b[39miter\u001b[39m(fh)\n",
      "File \u001b[1;32mc:\\Users\\Sergio\\anaconda3\\envs\\labo\\lib\\site-packages\\numpy\\lib\\_datasource.py:193\u001b[0m, in \u001b[0;36mopen\u001b[1;34m(path, mode, destpath, encoding, newline)\u001b[0m\n\u001b[0;32m    156\u001b[0m \u001b[39m\"\"\"\u001b[39;00m\n\u001b[0;32m    157\u001b[0m \u001b[39mOpen `path` with `mode` and return the file object.\u001b[39;00m\n\u001b[0;32m    158\u001b[0m \n\u001b[1;32m   (...)\u001b[0m\n\u001b[0;32m    189\u001b[0m \n\u001b[0;32m    190\u001b[0m \u001b[39m\"\"\"\u001b[39;00m\n\u001b[0;32m    192\u001b[0m ds \u001b[39m=\u001b[39m DataSource(destpath)\n\u001b[1;32m--> 193\u001b[0m \u001b[39mreturn\u001b[39;00m ds\u001b[39m.\u001b[39;49mopen(path, mode, encoding\u001b[39m=\u001b[39;49mencoding, newline\u001b[39m=\u001b[39;49mnewline)\n",
      "File \u001b[1;32mc:\\Users\\Sergio\\anaconda3\\envs\\labo\\lib\\site-packages\\numpy\\lib\\_datasource.py:533\u001b[0m, in \u001b[0;36mDataSource.open\u001b[1;34m(self, path, mode, encoding, newline)\u001b[0m\n\u001b[0;32m    530\u001b[0m     \u001b[39mreturn\u001b[39;00m _file_openers[ext](found, mode\u001b[39m=\u001b[39mmode,\n\u001b[0;32m    531\u001b[0m                               encoding\u001b[39m=\u001b[39mencoding, newline\u001b[39m=\u001b[39mnewline)\n\u001b[0;32m    532\u001b[0m \u001b[39melse\u001b[39;00m:\n\u001b[1;32m--> 533\u001b[0m     \u001b[39mraise\u001b[39;00m \u001b[39mIOError\u001b[39;00m(\u001b[39m\"\u001b[39m\u001b[39m%s\u001b[39;00m\u001b[39m not found.\u001b[39m\u001b[39m\"\u001b[39m \u001b[39m%\u001b[39m path)\n",
      "\u001b[1;31mOSError\u001b[0m: 1el.txt not found."
     ]
    }
   ],
   "source": [
    "def adqui(file_name):\n",
    "    data = np.loadtxt(file_name, delimiter=',', skiprows=1)\n",
    "    t=np.array(data[:,0])\n",
    "    ph=np.array(data[:,1])\n",
    "    temp=np.array(data[:,2])\n",
    "    pot=np.array(data[:,3])\n",
    "    cond=np.array(data[:,4])\n",
    "    return t,ph,temp,pot,cond\n",
    "\n",
    "\n",
    "t1,ph1,temp1,pot1,cond1=adqui('1el.txt')\n",
    "\n",
    "plt.figure(figsize=(12,9))\n",
    "plt.subplot(2,2,1)\n",
    "plt.plot(t1,ph1, '.-', label='Un electrodo')\n",
    "plt.title('pH')\n",
    "plt.ylabel('pH')\n",
    "plt.legend()\n",
    "plt.subplot(2,2,2)\n",
    "plt.plot(t1,temp1, '.-', label='Un electrodo')\n",
    "plt.title('Temperatura')\n",
    "plt.ylabel('temperatura (ºC)')\n",
    "plt.legend()\n",
    "plt.subplot(2,2,3)\n",
    "plt.plot(t1,pot1, '.-', label='Un electrodo')\n",
    "plt.title('Potencial')\n",
    "plt.ylabel('potencial (mV)')\n",
    "plt.xlabel('tiempo (min)')\n",
    "plt.legend()\n",
    "plt.subplot(2,2,4)\n",
    "plt.plot(t1,cond1, '.-', label='Un electrodo')\n",
    "plt.title('Conductividad')\n",
    "plt.legend()\n",
    "plt.ylabel('conductividad ($\\mu$S)')\n",
    "plt.xlabel('tiempo (min)')\n"
   ]
  }
 ],
 "metadata": {
  "kernelspec": {
   "display_name": "labo",
   "language": "python",
   "name": "python3"
  },
  "language_info": {
   "codemirror_mode": {
    "name": "ipython",
    "version": 3
   },
   "file_extension": ".py",
   "mimetype": "text/x-python",
   "name": "python",
   "nbconvert_exporter": "python",
   "pygments_lexer": "ipython3",
   "version": "3.9.11"
  },
  "orig_nbformat": 4
 },
 "nbformat": 4,
 "nbformat_minor": 2
}
